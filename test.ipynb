{
 "cells": [
  {
   "cell_type": "markdown",
   "metadata": {},
   "source": [
    "This file was created to trouble shoot why our game couldent get past the starts sequance. For over an hour Mr.Powers was helping us diagnose and figure out why \n",
    "\"current_room.connected_rooms\" was not working in our code. Come to find out after all the time we spent try to diagnose the issue it was a simple miss spelling error. Earlier in our code we have connected spelled \"conected\" the extra \"n\" in our code was causing our code to constanly brake. Once this was figure out Mr.Poowers helped us fix the rest of our code to get it running properly. Most of our errors came from misspellings and punctuation errors. "
   ]
  }
 ],
 "metadata": {
  "kernelspec": {
   "display_name": "base",
   "language": "python",
   "name": "python3"
  },
  "language_info": {
   "name": "python",
   "version": "3.12.7"
  }
 },
 "nbformat": 4,
 "nbformat_minor": 2
}
